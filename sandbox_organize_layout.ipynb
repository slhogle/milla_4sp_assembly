{
 "cells": [
  {
   "cell_type": "code",
   "execution_count": null,
   "metadata": {},
   "outputs": [],
   "source": [
    "from itertools import combinations, zip_longest\n",
    "import wellmap\n",
    "import pickle\n",
    "import pandas as pd\n",
    "from io import StringIO"
   ]
  },
  {
   "cell_type": "code",
   "execution_count": null,
   "metadata": {},
   "outputs": [],
   "source": [
    "pairs = pd.read_csv (\"species_pairs.tsv\", sep = '\\t')\n",
    "pairs_rnd = pd.read_csv (\"species_pairs_randomized.tsv\", sep = '\\t')"
   ]
  },
  {
   "cell_type": "code",
   "execution_count": null,
   "metadata": {},
   "outputs": [],
   "source": [
    "pairs_dict = pairs.set_index('well').to_dict(orient='index')\n",
    "pairs_rnd_dict = pairs_rnd.set_index('well').to_dict(orient='index')\n",
    "\n",
    "strains = ['ANC_0403', 'ANC_1287', 'ANC_1896', 'ANC_1977', \n",
    "           'EVO_0403', 'EVO_1287', 'EVO_1896', 'EVO_1977']"
   ]
  },
  {
   "cell_type": "code",
   "execution_count": null,
   "metadata": {},
   "outputs": [],
   "source": [
    "pairs_rnd_dict"
   ]
  },
  {
   "cell_type": "code",
   "execution_count": null,
   "metadata": {},
   "outputs": [],
   "source": [
    "pairs_csv_raw = '''\n",
    "Mixture_name,sp_A,sp_B,f_A,f_B,well\n",
    "B49,blank,blank,0,0,A1\n",
    "P17,ANC_0403,ANC_1977,0.05,0.95,A2\n",
    "B50,blank,blank,0,0,A3\n",
    "P13,ANC_1287,EVO_1896,0.05,0.95,A4\n",
    "B51,blank,blank,0,0,A5\n",
    "P47,EVO_0403,EVO_1287,0.05,0.95,A6\n",
    "B52,blank,blank,0,0,A7\n",
    "P36,EVO_1896,ANC_1977,0.95,0.05,A8\n",
    "B53,blank,blank,0,0,A9\n",
    "P16,EVO_1287,EVO_1896,0.95,0.05,A10\n",
    "B54,blank,blank,0,0,A11\n",
    "P28,EVO_1287,ANC_1977,0.95,0.05,A12\n",
    "P26,ANC_1287,ANC_1977,0.95,0.05,B1\n",
    "B55,blank,blank,0,0,B2\n",
    "P38,ANC_1896,EVO_1977,0.95,0.05,B3\n",
    "B56,blank,blank,0,0,B4\n",
    "P32,EVO_1287,EVO_1977,0.95,0.05,B5\n",
    "B57,blank,blank,0,0,B6\n",
    "P03,EVO_0403,ANC_1896,0.05,0.95,B7\n",
    "B58,blank,blank,0,0,B8\n",
    "P02,ANC_0403,ANC_1896,0.95,0.05,B9\n",
    "B59,blank,blank,0,0,B10\n",
    "P39,EVO_1896,EVO_1977,0.05,0.95,B11\n",
    "B60,blank,blank,0,0,B12\n",
    "B61,blank,blank,0,0,C1\n",
    "P44,EVO_0403,ANC_1287,0.95,0.05,C2\n",
    "B62,blank,blank,0,0,C3\n",
    "P11,EVO_1287,ANC_1896,0.05,0.95,C4\n",
    "B63,blank,blank,0,0,C5\n",
    "P34,ANC_1896,ANC_1977,0.95,0.05,C6\n",
    "B64,blank,blank,0,0,C7\n",
    "P45,ANC_0403,EVO_1287,0.05,0.95,C8\n",
    "B65,blank,blank,0,0,C9\n",
    "P27,EVO_1287,ANC_1977,0.05,0.95,C10\n",
    "B66,blank,blank,0,0,C11\n",
    "P05,ANC_0403,EVO_1896,0.05,0.95,C12\n",
    "P25,ANC_1287,ANC_1977,0.05,0.95,D1\n",
    "B67,blank,blank,0,0,D2\n",
    "P10,ANC_1287,ANC_1896,0.95,0.05,D3\n",
    "B68,blank,blank,0,0,D4\n",
    "P46,ANC_0403,EVO_1287,0.95,0.05,D5\n",
    "B69,blank,blank,0,0,D6\n",
    "P09,ANC_1287,ANC_1896,0.05,0.95,D7\n",
    "B70,blank,blank,0,0,D8\n",
    "P14,ANC_1287,EVO_1896,0.95,0.05,D9\n",
    "B71,blank,blank,0,0,D10\n",
    "P48,EVO_0403,EVO_1287,0.95,0.05,D11\n",
    "B72,blank,blank,0,0,D12\n",
    "B73,blank,blank,0,0,E1\n",
    "P12,EVO_1287,ANC_1896,0.95,0.05,E2\n",
    "B74,blank,blank,0,0,E3\n",
    "P21,ANC_0403,EVO_1977,0.05,0.95,E4\n",
    "B75,blank,blank,0,0,E5\n",
    "P41,ANC_0403,ANC_1287,0.05,0.95,E6\n",
    "B76,blank,blank,0,0,E7\n",
    "P35,EVO_1896,ANC_1977,0.05,0.95,E8\n",
    "B77,blank,blank,0,0,E9\n",
    "P18,ANC_0403,ANC_1977,0.95,0.05,E10\n",
    "B78,blank,blank,0,0,E11\n",
    "P08,EVO_0403,EVO_1896,0.95,0.05,E12\n",
    "P24,EVO_0403,EVO_1977,0.95,0.05,F1\n",
    "B79,blank,blank,0,0,F2\n",
    "P04,EVO_0403,ANC_1896,0.95,0.05,F3\n",
    "B80,blank,blank,0,0,F4\n",
    "P30,ANC_1287,EVO_1977,0.95,0.05,F5\n",
    "B81,blank,blank,0,0,F6\n",
    "P40,EVO_1896,EVO_1977,0.95,0.05,F7\n",
    "B82,blank,blank,0,0,F8\n",
    "P33,ANC_1896,ANC_1977,0.05,0.95,F9\n",
    "B83,blank,blank,0,0,F10\n",
    "P20,EVO_0403,ANC_1977,0.95,0.05,F11\n",
    "B84,blank,blank,0,0,F12\n",
    "B85,blank,blank,0,0,G1\n",
    "P31,EVO_1287,EVO_1977,0.05,0.95,G2\n",
    "B86,blank,blank,0,0,G3\n",
    "P43,EVO_0403,ANC_1287,0.05,0.95,G4\n",
    "B87,blank,blank,0,0,G5\n",
    "P23,EVO_0403,EVO_1977,0.05,0.95,G6\n",
    "B88,blank,blank,0,0,G7\n",
    "P37,ANC_1896,EVO_1977,0.05,0.95,G8\n",
    "B89,blank,blank,0,0,G9\n",
    "P19,EVO_0403,ANC_1977,0.05,0.95,G10\n",
    "B90,blank,blank,0,0,G11\n",
    "P15,EVO_1287,EVO_1896,0.05,0.95,G12\n",
    "P22,ANC_0403,EVO_1977,0.95,0.05,H1\n",
    "B91,blank,blank,0,0,H2\n",
    "P42,ANC_0403,ANC_1287,0.95,0.05,H3\n",
    "B92,blank,blank,0,0,H4\n",
    "P07,EVO_0403,EVO_1896,0.05,0.95,H5\n",
    "B93,blank,blank,0,0,H6\n",
    "P29,ANC_1287,EVO_1977,0.05,0.95,H7\n",
    "B94,blank,blank,0,0,H8\n",
    "P01,ANC_0403,ANC_1896,0.05,0.95,H9\n",
    "B95,blank,blank,0,0,H10\n",
    "P06,ANC_0403,EVO_1896,0.95,0.05,H11\n",
    "B96,blank,blank,0,0,H12\n",
    "'''"
   ]
  },
  {
   "cell_type": "code",
   "execution_count": null,
   "metadata": {},
   "outputs": [],
   "source": [
    "pairs_rnd = pd.read_csv(StringIO(pairs_csv_raw))\n",
    "pairs_rnd_dict = pairs_rnd.set_index('well').to_dict(orient='index')"
   ]
  },
  {
   "cell_type": "code",
   "execution_count": null,
   "metadata": {},
   "outputs": [],
   "source": [
    "res = [test_dict[i] for i in select_list if i in test_dict]"
   ]
  },
  {
   "cell_type": "code",
   "execution_count": null,
   "metadata": {},
   "outputs": [],
   "source": [
    "blankwells"
   ]
  },
  {
   "cell_type": "code",
   "execution_count": null,
   "metadata": {},
   "outputs": [],
   "source": [
    "blankwells = [P for P, V in pairs_rnd_dict.items() if V['sp_A'] == 'blank']"
   ]
  },
  {
   "cell_type": "code",
   "execution_count": null,
   "metadata": {},
   "outputs": [],
   "source": []
  },
  {
   "cell_type": "code",
   "execution_count": null,
   "metadata": {},
   "outputs": [],
   "source": [
    "for P, V in pairs_rnd_dict.items():\n",
    "    if V['sp_A'] == 'blank':\n",
    "        blankwells = [x for x in P if  if V['sp_A'] == 'blank']"
   ]
  },
  {
   "cell_type": "code",
   "execution_count": null,
   "metadata": {},
   "outputs": [],
   "source": [
    "for sp in strains:\n",
    "    for P, V in pairs_dict.items():\n",
    "        if (V['sp_A'] == sp and V['f_A'] == 0.95) or (V['sp_B'] == sp and V['f_B'] == 0.95):\n",
    "            print(sp, P, V)"
   ]
  },
  {
   "cell_type": "code",
   "execution_count": null,
   "metadata": {},
   "outputs": [],
   "source": [
    "for sp in strains:\n",
    "    for P, V in pairs_dict.items():\n",
    "        if (V['sp_A'] == sp and V['f_A'] == 0.05) or (V['sp_B'] == sp and V['f_B'] == 0.05):\n",
    "            print(sp, P, V['sp_A'], V['sp_B'])"
   ]
  }
 ],
 "metadata": {
  "kernelspec": {
   "display_name": ".venv",
   "language": "python",
   "name": "python3"
  },
  "language_info": {
   "codemirror_mode": {
    "name": "ipython",
    "version": 3
   },
   "file_extension": ".py",
   "mimetype": "text/x-python",
   "name": "python",
   "nbconvert_exporter": "python",
   "pygments_lexer": "ipython3",
   "version": "3.10.12"
  }
 },
 "nbformat": 4,
 "nbformat_minor": 2
}
